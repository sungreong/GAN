{
  "nbformat": 4,
  "nbformat_minor": 0,
  "metadata": {
    "colab": {
      "name": "Keras_GAN_Model_save_and_load.ipynb",
      "version": "0.3.2",
      "provenance": [],
      "collapsed_sections": []
    },
    "kernelspec": {
      "name": "python3",
      "display_name": "Python 3"
    }
  },
  "cells": [
    {
      "cell_type": "markdown",
      "metadata": {
        "id": "view-in-github",
        "colab_type": "text"
      },
      "source": [
        "[View in Colaboratory](https://colab.research.google.com/github/sungreong/GAN/blob/master/Keras_GAN_Model_save_and_load.ipynb)"
      ]
    },
    {
      "metadata": {
        "id": "QagVUreHoWja",
        "colab_type": "text"
      },
      "cell_type": "markdown",
      "source": [
        "## 참고자료 :  https://github.com/sungreong/Repo-2017"
      ]
    },
    {
      "metadata": {
        "id": "bzC735fEgm8J",
        "colab_type": "code",
        "colab": {}
      },
      "cell_type": "code",
      "source": [
        "import keras\n",
        "import numpy as np\n",
        "import matplotlib.pyplot as plt\n",
        "from scipy.stats import norm\n",
        "from keras.layers import Input, Dense, Lambda\n",
        "from keras.models import Model\n",
        "from keras import backend as K\n",
        "from keras import objectives\n",
        "from keras.datasets import mnist\n",
        "from keras.layers.core import Reshape\n",
        "from __future__ import print_function\n",
        "import numpy as np\n",
        "np.random.seed(1337)\n",
        "from keras.datasets import mnist\n",
        "from keras.models import Sequential\n",
        "from keras.layers import Dense, Dropout, Activation, Flatten\n",
        "from keras.layers import Convolution2D, MaxPooling2D\n",
        "from keras.layers.convolutional import Convolution2D, MaxPooling2D, ZeroPadding2D, UpSampling2D\n",
        "from keras.utils import np_utils\n",
        "from keras import backend as K\n",
        "from keras.layers.normalization import BatchNormalization\n",
        "from keras.callbacks import ModelCheckpoint,LearningRateScheduler\n",
        "import os\n",
        "os.environ[\"KERAS_BACKEND\"] = \"theano\"\n",
        "#os.environ[\"THEANO_FLAGS\"]  = \"device=gpu%d,lib.cnmem=0\"%(random.randint(0,3))\n",
        "\n"
      ],
      "execution_count": 0,
      "outputs": []
    },
    {
      "metadata": {
        "id": "-2sQaxwojkfI",
        "colab_type": "code",
        "colab": {
          "base_uri": "https://localhost:8080/",
          "height": 71
        },
        "outputId": "abc45aaa-a2d1-4dfd-9454-890dda9cfb8a"
      },
      "cell_type": "code",
      "source": [
        "(x_train, y_train), (x_test, y_test) = mnist.load_data()\n",
        "\n",
        "x_train = x_train.astype('float32') / 255.\n",
        "x_test = x_test.astype('float32') / 255.\n",
        "x_train = x_train.reshape((len(x_train), np.prod(x_train.shape[1:])))\n",
        "x_test = x_test.reshape((len(x_test), np.prod(x_test.shape[1:])))\n",
        "x_train=x_train[1:2]\n",
        "x_test=x_test[1:2]\n",
        "y_train=y_train[1:2]\n",
        "y_test=y_test[1:2]\n",
        "\n",
        "batch_size = 10\n",
        "nb_classes = 10\n",
        "nb_epoch = 1\n",
        "\n",
        "# input image dimensions\n",
        "img_rows, img_cols = 28, 28\n",
        "# number of convolutional filters to use\n",
        "nb_filters = 32\n",
        "# size of pooling area for max pooling\n",
        "pool_size = (2, 2)\n",
        "# convolution kernel size\n",
        "kernel_size = (3, 3)\n",
        "\n",
        "# the data, shuffled and split between train and test sets\n",
        "(X_train, y_train), (X_test, y_test) = mnist.load_data()\n",
        "\n",
        "if K.image_dim_ordering() == 'th':\n",
        "    X_train = X_train.reshape(X_train.shape[0], 1, img_rows, img_cols)\n",
        "    X_test = X_test.reshape(X_test.shape[0], 1, img_rows, img_cols)\n",
        "    input_shape = (1, img_rows,img_cols)\n",
        "else:\n",
        "    X_train = X_train.reshape(X_train.shape[0], img_rows, img_cols, 1)\n",
        "    X_test = X_test.reshape(X_test.shape[0], img_rows, img_cols, 1)\n",
        "    input_shape = (img_rows, img_cols, 1)\n",
        "\n",
        "X_train = X_train.astype('float32')[1:2]\n",
        "X_test = X_test.astype('float32')[1:2]\n",
        "X_train /= 255\n",
        "X_test /= 255\n",
        "print('X_train shape:', X_train.shape)\n",
        "print(X_train.shape[0], 'train samples')\n",
        "print(X_test.shape[0], 'test samples')\n",
        "\n"
      ],
      "execution_count": 32,
      "outputs": [
        {
          "output_type": "stream",
          "text": [
            "X_train shape: (1, 28, 28, 1)\n",
            "1 train samples\n",
            "1 test samples\n"
          ],
          "name": "stdout"
        }
      ]
    },
    {
      "metadata": {
        "id": "dsn6zgrJg4HB",
        "colab_type": "code",
        "colab": {}
      },
      "cell_type": "code",
      "source": [
        "sd=[]\n",
        "\n",
        "class LossHistory(keras.callbacks.Callback):\n",
        "    def on_train_begin(self, logs={}):\n",
        "        self.losses = [1,1]\n",
        "\n",
        "    def on_epoch_end(self, batch, logs={}):\n",
        "        self.losses.append(logs.get('loss'))\n",
        "        sd.append(step_decay(len(self.losses)))\n",
        "        print('learning rate:', step_decay(len(self.losses)))\n",
        "        print('derivative of loss:', 2*np.sqrt((self.losses[-1])))\n",
        "\n",
        "def my_init(shape, name=None):\n",
        "    value = np.random.random(shape)\n",
        "    return K.variable(value, name=name)\n",
        "\n",
        "def step_decay(losses):\n",
        "    if float(2*np.sqrt(np.array(history.losses[-1])))<1.6:\n",
        "        lrate=0.006\n",
        "        momentum=0.4\n",
        "        decay_rate=0.0\n",
        "        return lrate\n",
        "    else:\n",
        "        lrate=0.01\n",
        "        return lrate\n",
        "\n",
        "\n",
        "\n",
        "\n"
      ],
      "execution_count": 0,
      "outputs": []
    },
    {
      "metadata": {
        "id": "2FWTrv2pkEeJ",
        "colab_type": "code",
        "colab": {
          "base_uri": "https://localhost:8080/",
          "height": 829
        },
        "outputId": "a83678fe-9dae-4f21-f83c-99ab0ccae41b"
      },
      "cell_type": "code",
      "source": [
        "generator = Sequential()\n",
        "generator.add(Convolution2D(20, 3,3,\n",
        "                        border_mode='valid',\n",
        "                        input_shape=input_shape))\n",
        "\n",
        "generator.add(BatchNormalization())\n",
        "generator.add(Activation('relu'))\n",
        "generator.add(UpSampling2D(size=(2, 2)))\n",
        "generator.add(Convolution2D(20, 3, 3,\n",
        "                            init='glorot_uniform'))\n",
        "generator.add(BatchNormalization())\n",
        "generator.add(Activation('relu'))\n",
        "generator.add(Convolution2D(20, 3, 3,init='glorot_uniform'))\n",
        "generator.add(BatchNormalization())\n",
        "generator.add(Activation('relu'))\n",
        "generator.add(MaxPooling2D(pool_size=(3,3)))\n",
        "generator.add(Convolution2D(4, 3, 3,init='glorot_uniform'))\n",
        "generator.add(BatchNormalization())\n",
        "generator.add(Activation('relu'))\n",
        "generator.add(Reshape((28,28,1)))\n",
        "generator.compile(loss='binary_crossentropy', optimizer='adam')\n",
        "generator.summary()"
      ],
      "execution_count": 34,
      "outputs": [
        {
          "output_type": "stream",
          "text": [
            "/usr/local/lib/python3.6/dist-packages/ipykernel_launcher.py:4: UserWarning: Update your `Conv2D` call to the Keras 2 API: `Conv2D(20, (3, 3), input_shape=(28, 28, 1..., padding=\"valid\")`\n",
            "  after removing the cwd from sys.path.\n",
            "/usr/local/lib/python3.6/dist-packages/ipykernel_launcher.py:10: UserWarning: Update your `Conv2D` call to the Keras 2 API: `Conv2D(20, (3, 3), kernel_initializer=\"glorot_uniform\")`\n",
            "  # Remove the CWD from sys.path while we load stuff.\n",
            "/usr/local/lib/python3.6/dist-packages/ipykernel_launcher.py:13: UserWarning: Update your `Conv2D` call to the Keras 2 API: `Conv2D(20, (3, 3), kernel_initializer=\"glorot_uniform\")`\n",
            "  del sys.path[0]\n",
            "/usr/local/lib/python3.6/dist-packages/ipykernel_launcher.py:17: UserWarning: Update your `Conv2D` call to the Keras 2 API: `Conv2D(4, (3, 3), kernel_initializer=\"glorot_uniform\")`\n"
          ],
          "name": "stderr"
        },
        {
          "output_type": "stream",
          "text": [
            "_________________________________________________________________\n",
            "Layer (type)                 Output Shape              Param #   \n",
            "=================================================================\n",
            "conv2d_9 (Conv2D)            (None, 26, 26, 20)        200       \n",
            "_________________________________________________________________\n",
            "batch_normalization_5 (Batch (None, 26, 26, 20)        80        \n",
            "_________________________________________________________________\n",
            "activation_9 (Activation)    (None, 26, 26, 20)        0         \n",
            "_________________________________________________________________\n",
            "up_sampling2d_2 (UpSampling2 (None, 52, 52, 20)        0         \n",
            "_________________________________________________________________\n",
            "conv2d_10 (Conv2D)           (None, 50, 50, 20)        3620      \n",
            "_________________________________________________________________\n",
            "batch_normalization_6 (Batch (None, 50, 50, 20)        80        \n",
            "_________________________________________________________________\n",
            "activation_10 (Activation)   (None, 50, 50, 20)        0         \n",
            "_________________________________________________________________\n",
            "conv2d_11 (Conv2D)           (None, 48, 48, 20)        3620      \n",
            "_________________________________________________________________\n",
            "batch_normalization_7 (Batch (None, 48, 48, 20)        80        \n",
            "_________________________________________________________________\n",
            "activation_11 (Activation)   (None, 48, 48, 20)        0         \n",
            "_________________________________________________________________\n",
            "max_pooling2d_3 (MaxPooling2 (None, 16, 16, 20)        0         \n",
            "_________________________________________________________________\n",
            "conv2d_12 (Conv2D)           (None, 14, 14, 4)         724       \n",
            "_________________________________________________________________\n",
            "batch_normalization_8 (Batch (None, 14, 14, 4)         16        \n",
            "_________________________________________________________________\n",
            "activation_12 (Activation)   (None, 14, 14, 4)         0         \n",
            "_________________________________________________________________\n",
            "reshape_2 (Reshape)          (None, 28, 28, 1)         0         \n",
            "=================================================================\n",
            "Total params: 8,420\n",
            "Trainable params: 8,292\n",
            "Non-trainable params: 128\n",
            "_________________________________________________________________\n"
          ],
          "name": "stdout"
        }
      ]
    },
    {
      "metadata": {
        "id": "oh-nwOwKhQ5I",
        "colab_type": "code",
        "colab": {
          "base_uri": "https://localhost:8080/",
          "height": 721
        },
        "outputId": "a00c137b-2fdd-40c3-8959-b4e4f1494229"
      },
      "cell_type": "code",
      "source": [
        "############# DISCRIMINATOR\n",
        "\n",
        "# the data, shuffled and split between train and test sets\n",
        "(X_train, y_train), (X_test, y_test) = mnist.load_data()\n",
        "\n",
        "if K.image_dim_ordering() == 'th':\n",
        "    X_train = X_train.reshape(X_train.shape[0], 1, img_rows, img_cols)\n",
        "    X_test = X_test.reshape(X_test.shape[0], 1, img_rows, img_cols)\n",
        "    input_shape = (1, img_rows,img_cols)\n",
        "else:\n",
        "    X_train = X_train.reshape(X_train.shape[0], img_rows, img_cols, 1)\n",
        "    X_test = X_test.reshape(X_test.shape[0], img_rows, img_cols, 1)\n",
        "    input_shape = (img_rows, img_cols, 1)\n",
        "\n",
        "X_train = X_train.astype('float32')[1:2]\n",
        "X_test = X_test.astype('float32')[1:2]\n",
        "X_train /= 255\n",
        "X_test /= 255\n",
        "print('X_train shape:', X_train.shape)\n",
        "print(X_train.shape[0], 'train samples')\n",
        "print(X_test.shape[0], 'test samples')\n",
        "\n",
        "# convert class vectors to binary class matrices\n",
        "Y_train = np_utils.to_categorical(y_train, nb_classes)[1:2]\n",
        "Y_test = np_utils.to_categorical(y_test, nb_classes)[1:2]\n",
        "\n",
        "history=LossHistory()\n",
        "print(\"history : \" , history)\n",
        "lrate=LearningRateScheduler(step_decay)\n",
        "print(\"lrate : \" ,lrate)\n",
        "\n",
        "discriminator = Sequential()\n",
        "discriminator.add(Convolution2D(nb_filters, kernel_size[0], kernel_size[1],\n",
        "                        border_mode='valid',\n",
        "                        input_shape=input_shape))\n",
        "\n",
        "discriminator.add(Activation('relu'))\n",
        "discriminator.add(Convolution2D(nb_filters, kernel_size[0], kernel_size[1]))\n",
        "discriminator.add(Activation('relu'))\n",
        "discriminator.add(MaxPooling2D(pool_size=pool_size))\n",
        "discriminator.add(Dropout(0.25))\n",
        "discriminator.add(Flatten())\n",
        "discriminator.add(Dense(64))\n",
        "discriminator.add(Activation('relu'))\n",
        "discriminator.add(Dropout(0.5))\n",
        "discriminator.add(Dense(nb_classes))\n",
        "discriminator.add(Activation('sigmoid'))\n",
        "\n",
        "discriminator.compile(loss='categorical_crossentropy',\n",
        "              optimizer='adadelta',\n",
        "              metrics=['accuracy'])\n",
        "\n",
        "discriminator.summary()\n"
      ],
      "execution_count": 36,
      "outputs": [
        {
          "output_type": "stream",
          "text": [
            "X_train shape: (1, 28, 28, 1)\n",
            "1 train samples\n",
            "1 test samples\n",
            "history :  <__main__.LossHistory object at 0x7ff1d5a30ba8>\n",
            "lrate :  <keras.callbacks.LearningRateScheduler object at 0x7ff1d5b5aa90>\n",
            "_________________________________________________________________\n",
            "Layer (type)                 Output Shape              Param #   \n",
            "=================================================================\n",
            "conv2d_15 (Conv2D)           (None, 26, 26, 32)        320       \n",
            "_________________________________________________________________\n",
            "activation_17 (Activation)   (None, 26, 26, 32)        0         \n",
            "_________________________________________________________________\n",
            "conv2d_16 (Conv2D)           (None, 24, 24, 32)        9248      \n",
            "_________________________________________________________________\n",
            "activation_18 (Activation)   (None, 24, 24, 32)        0         \n",
            "_________________________________________________________________\n",
            "max_pooling2d_5 (MaxPooling2 (None, 12, 12, 32)        0         \n",
            "_________________________________________________________________\n",
            "dropout_5 (Dropout)          (None, 12, 12, 32)        0         \n",
            "_________________________________________________________________\n",
            "flatten_3 (Flatten)          (None, 4608)              0         \n",
            "_________________________________________________________________\n",
            "dense_5 (Dense)              (None, 64)                294976    \n",
            "_________________________________________________________________\n",
            "activation_19 (Activation)   (None, 64)                0         \n",
            "_________________________________________________________________\n",
            "dropout_6 (Dropout)          (None, 64)                0         \n",
            "_________________________________________________________________\n",
            "dense_6 (Dense)              (None, 10)                650       \n",
            "_________________________________________________________________\n",
            "activation_20 (Activation)   (None, 10)                0         \n",
            "=================================================================\n",
            "Total params: 305,194\n",
            "Trainable params: 305,194\n",
            "Non-trainable params: 0\n",
            "_________________________________________________________________\n"
          ],
          "name": "stdout"
        },
        {
          "output_type": "stream",
          "text": [
            "/usr/local/lib/python3.6/dist-packages/ipykernel_launcher.py:32: UserWarning: Update your `Conv2D` call to the Keras 2 API: `Conv2D(32, (3, 3), input_shape=(28, 28, 1..., padding=\"valid\")`\n",
            "/usr/local/lib/python3.6/dist-packages/ipykernel_launcher.py:34: UserWarning: Update your `Conv2D` call to the Keras 2 API: `Conv2D(32, (3, 3))`\n"
          ],
          "name": "stderr"
        }
      ]
    },
    {
      "metadata": {
        "id": "gsCAotm0hmAH",
        "colab_type": "code",
        "colab": {
          "base_uri": "https://localhost:8080/",
          "height": 1081
        },
        "outputId": "b8cb7fdb-f4b9-4d57-bbf6-48b520b45dfa"
      },
      "cell_type": "code",
      "source": [
        "filepath=\"CNN_MNIST-{loss:.4f}.hdf5\"\n",
        "checkpoint_discr = ModelCheckpoint(filepath, monitor='binary_crossentropy', verbose=1, save_best_only=True)\n",
        "# batch_size = 12 \n",
        "\n",
        "discriminator.fit(X_train, Y_train, batch_size=batch_size, nb_epoch=12 ,callbacks=[history,lrate,checkpoint_discr],\n",
        "          verbose=1, validation_data=(X_test, Y_test))\n",
        "\n",
        "score = discriminator.evaluate(X_test, Y_test, verbose=2)\n",
        "print(\"=\"*100)\n",
        "print('Test score:', score[0])\n",
        "print('Test accuracy:', score[1])"
      ],
      "execution_count": 41,
      "outputs": [
        {
          "output_type": "stream",
          "text": [
            "Train on 1 samples, validate on 1 samples\n",
            "Epoch 1/12\n",
            "1/1 [==============================] - 0s 18ms/step - loss: 2.3374 - acc: 0.0000e+00 - val_loss: 2.3034 - val_acc: 0.0000e+00\n",
            "learning rate: 0.01\n",
            "derivative of loss: 3.057734148194168\n",
            "Epoch 2/12\n",
            "1/1 [==============================] - 0s 15ms/step - loss: 2.1816 - acc: 1.0000 - val_loss: 2.3033 - val_acc: 0.0000e+00\n",
            "learning rate: 0.01\n",
            "derivative of loss: 2.9540353814900753\n",
            "Epoch 3/12\n",
            "1/1 [==============================] - 0s 14ms/step - loss: 2.2664 - acc: 0.0000e+00 - val_loss: 2.3031 - val_acc: 0.0000e+00\n",
            "learning rate: 0.01\n",
            "derivative of loss: 3.010900878683542\n",
            "Epoch 4/12\n",
            "1/1 [==============================] - 0s 16ms/step - loss: 2.1950 - acc: 0.0000e+00 - val_loss: 2.3033 - val_acc: 0.0000e+00\n",
            "learning rate: 0.01\n",
            "derivative of loss: 2.9630824550623034\n",
            "Epoch 5/12\n",
            "1/1 [==============================] - 0s 13ms/step - loss: 2.2334 - acc: 0.0000e+00 - val_loss: 2.3032 - val_acc: 0.0000e+00\n",
            "learning rate: 0.01\n",
            "derivative of loss: 2.988942590472936\n",
            "Epoch 6/12\n",
            "1/1 [==============================] - 0s 16ms/step - loss: 2.2670 - acc: 0.0000e+00 - val_loss: 2.3030 - val_acc: 0.0000e+00\n",
            "learning rate: 0.01\n",
            "derivative of loss: 3.011279993220624\n",
            "Epoch 7/12\n",
            "1/1 [==============================] - 0s 18ms/step - loss: 2.3319 - acc: 0.0000e+00 - val_loss: 2.3034 - val_acc: 0.0000e+00\n",
            "learning rate: 0.01\n",
            "derivative of loss: 3.054088172753951\n",
            "Epoch 8/12\n",
            "1/1 [==============================] - 0s 18ms/step - loss: 2.3141 - acc: 0.0000e+00 - val_loss: 2.3035 - val_acc: 0.0000e+00\n",
            "learning rate: 0.01\n",
            "derivative of loss: 3.042431687251866\n",
            "Epoch 9/12\n",
            "1/1 [==============================] - 0s 18ms/step - loss: 2.2591 - acc: 0.0000e+00 - val_loss: 2.3031 - val_acc: 0.0000e+00\n",
            "learning rate: 0.01\n",
            "derivative of loss: 3.0060432283665026\n",
            "Epoch 10/12\n",
            "1/1 [==============================] - 0s 14ms/step - loss: 2.1936 - acc: 1.0000 - val_loss: 2.3033 - val_acc: 0.0000e+00\n"
          ],
          "name": "stdout"
        },
        {
          "output_type": "stream",
          "text": [
            "/usr/local/lib/python3.6/dist-packages/keras/models.py:981: UserWarning: The `nb_epoch` argument in `fit` has been renamed `epochs`.\n",
            "  warnings.warn('The `nb_epoch` argument in `fit` '\n",
            "/usr/local/lib/python3.6/dist-packages/keras/engine/training.py:975: UserWarning: Discrepancy between trainable weights and collected trainable weights, did you set `model.trainable` without calling `model.compile` after ?\n",
            "  'Discrepancy between trainable weights and collected trainable'\n",
            "/usr/local/lib/python3.6/dist-packages/keras/callbacks.py:435: RuntimeWarning: Can save best model only with binary_crossentropy available, skipping.\n",
            "  'skipping.' % (self.monitor), RuntimeWarning)\n"
          ],
          "name": "stderr"
        },
        {
          "output_type": "stream",
          "text": [
            "learning rate: 0.01\n",
            "derivative of loss: 2.962145234446416\n",
            "Epoch 11/12\n",
            "1/1 [==============================] - 0s 24ms/step - loss: 2.2909 - acc: 0.0000e+00 - val_loss: 2.3032 - val_acc: 0.0000e+00\n",
            "learning rate: 0.01\n",
            "derivative of loss: 3.0271145641573747\n",
            "Epoch 12/12\n",
            "1/1 [==============================] - 0s 19ms/step - loss: 2.2264 - acc: 0.0000e+00 - val_loss: 2.3030 - val_acc: 0.0000e+00\n",
            "learning rate: 0.01\n",
            "derivative of loss: 2.9842526076219875\n",
            "====================================================================================================\n",
            "Test score: 2.303018569946289\n",
            "Test accuracy: 0.0\n"
          ],
          "name": "stdout"
        }
      ]
    },
    {
      "metadata": {
        "id": "wxo2sY30lWaZ",
        "colab_type": "code",
        "colab": {}
      },
      "cell_type": "code",
      "source": [
        "def not_train(net, val):\n",
        "    net.trainable = val\n",
        "    for k in net.layers:\n",
        "       k.trainable = val\n",
        "\n",
        "not_train(discriminator, False)\n",
        "\n",
        "\n"
      ],
      "execution_count": 0,
      "outputs": []
    },
    {
      "metadata": {
        "id": "PbRub-mIl1HZ",
        "colab_type": "code",
        "colab": {
          "base_uri": "https://localhost:8080/",
          "height": 2375
        },
        "outputId": "ca24976b-57d0-4826-eecd-8f84d49e40d4"
      },
      "cell_type": "code",
      "source": [
        "gan_input = Input(batch_shape=(1, 28,28,1))\n",
        "\n",
        "generator.summary()\n",
        "discriminator.summary()\n",
        "\n",
        "gan_level2 = discriminator(generator(gan_input))\n",
        "\n",
        "GAN = Model(gan_input, gan_level2)\n",
        "GAN.compile(loss='categorical_crossentropy', optimizer='adam')\n",
        "\n",
        "filepath=\"CNN_STACKED-{loss:.4f}.hdf5\"\n",
        "checkpoint_stacked = ModelCheckpoint(filepath, monitor='binary_crossentropy', verbose=1, save_best_only=False)\n",
        "\n",
        "GAN.fit(x_train.reshape((1,28,28,1)), Y_train.reshape((1,10)), batch_size=batch_size, nb_epoch=10,\n",
        "          verbose=1,callbacks=[history,lrate,checkpoint_stacked])"
      ],
      "execution_count": 43,
      "outputs": [
        {
          "output_type": "stream",
          "text": [
            "_________________________________________________________________\n",
            "Layer (type)                 Output Shape              Param #   \n",
            "=================================================================\n",
            "conv2d_9 (Conv2D)            (None, 26, 26, 20)        200       \n",
            "_________________________________________________________________\n",
            "batch_normalization_5 (Batch (None, 26, 26, 20)        80        \n",
            "_________________________________________________________________\n",
            "activation_9 (Activation)    (None, 26, 26, 20)        0         \n",
            "_________________________________________________________________\n",
            "up_sampling2d_2 (UpSampling2 (None, 52, 52, 20)        0         \n",
            "_________________________________________________________________\n",
            "conv2d_10 (Conv2D)           (None, 50, 50, 20)        3620      \n",
            "_________________________________________________________________\n",
            "batch_normalization_6 (Batch (None, 50, 50, 20)        80        \n",
            "_________________________________________________________________\n",
            "activation_10 (Activation)   (None, 50, 50, 20)        0         \n",
            "_________________________________________________________________\n",
            "conv2d_11 (Conv2D)           (None, 48, 48, 20)        3620      \n",
            "_________________________________________________________________\n",
            "batch_normalization_7 (Batch (None, 48, 48, 20)        80        \n",
            "_________________________________________________________________\n",
            "activation_11 (Activation)   (None, 48, 48, 20)        0         \n",
            "_________________________________________________________________\n",
            "max_pooling2d_3 (MaxPooling2 (None, 16, 16, 20)        0         \n",
            "_________________________________________________________________\n",
            "conv2d_12 (Conv2D)           (None, 14, 14, 4)         724       \n",
            "_________________________________________________________________\n",
            "batch_normalization_8 (Batch (None, 14, 14, 4)         16        \n",
            "_________________________________________________________________\n",
            "activation_12 (Activation)   (None, 14, 14, 4)         0         \n",
            "_________________________________________________________________\n",
            "reshape_2 (Reshape)          (None, 28, 28, 1)         0         \n",
            "=================================================================\n",
            "Total params: 8,420\n",
            "Trainable params: 8,292\n",
            "Non-trainable params: 128\n",
            "_________________________________________________________________\n",
            "_________________________________________________________________\n",
            "Layer (type)                 Output Shape              Param #   \n",
            "=================================================================\n",
            "conv2d_15 (Conv2D)           (None, 26, 26, 32)        320       \n",
            "_________________________________________________________________\n",
            "activation_17 (Activation)   (None, 26, 26, 32)        0         \n",
            "_________________________________________________________________\n",
            "conv2d_16 (Conv2D)           (None, 24, 24, 32)        9248      \n",
            "_________________________________________________________________\n",
            "activation_18 (Activation)   (None, 24, 24, 32)        0         \n",
            "_________________________________________________________________\n",
            "max_pooling2d_5 (MaxPooling2 (None, 12, 12, 32)        0         \n",
            "_________________________________________________________________\n",
            "dropout_5 (Dropout)          (None, 12, 12, 32)        0         \n",
            "_________________________________________________________________\n",
            "flatten_3 (Flatten)          (None, 4608)              0         \n",
            "_________________________________________________________________\n",
            "dense_5 (Dense)              (None, 64)                294976    \n",
            "_________________________________________________________________\n",
            "activation_19 (Activation)   (None, 64)                0         \n",
            "_________________________________________________________________\n",
            "dropout_6 (Dropout)          (None, 64)                0         \n",
            "_________________________________________________________________\n",
            "dense_6 (Dense)              (None, 10)                650       \n",
            "_________________________________________________________________\n",
            "activation_20 (Activation)   (None, 10)                0         \n",
            "=================================================================\n",
            "Total params: 305,194\n",
            "Trainable params: 0\n",
            "Non-trainable params: 305,194\n",
            "_________________________________________________________________\n"
          ],
          "name": "stdout"
        },
        {
          "output_type": "stream",
          "text": [
            "/usr/local/lib/python3.6/dist-packages/ipykernel_launcher.py:15: UserWarning: The `nb_epoch` argument in `fit` has been renamed `epochs`.\n",
            "  from ipykernel import kernelapp as app\n"
          ],
          "name": "stderr"
        },
        {
          "output_type": "stream",
          "text": [
            "Epoch 1/10\n",
            "1/1 [==============================] - 2s 2s/step - loss: 2.1140\n",
            "learning rate: 0.01\n",
            "derivative of loss: 2.9079148640927444\n",
            "\n",
            "Epoch 00001: saving model to CNN_STACKED-2.1140.hdf5\n",
            "Epoch 2/10\n",
            "1/1 [==============================] - 0s 36ms/step - loss: 2.1142\n",
            "learning rate: 0.01\n",
            "derivative of loss: 2.9080378457903238\n",
            "\n",
            "Epoch 00002: saving model to CNN_STACKED-2.1142.hdf5\n",
            "Epoch 3/10\n",
            "1/1 [==============================] - 0s 42ms/step - loss: 2.0675\n",
            "learning rate: 0.01\n",
            "derivative of loss: 2.875778424573286\n",
            "\n",
            "Epoch 00003: saving model to CNN_STACKED-2.0675.hdf5\n",
            "Epoch 4/10\n",
            "1/1 [==============================] - 0s 35ms/step - loss: 1.9882\n",
            "learning rate: 0.01\n",
            "derivative of loss: 2.820038335688399\n",
            "\n",
            "Epoch 00004: saving model to CNN_STACKED-1.9882.hdf5\n",
            "Epoch 5/10\n",
            "1/1 [==============================] - 0s 35ms/step - loss: 2.0228\n",
            "learning rate: 0.01\n",
            "derivative of loss: 2.844535467641837\n",
            "\n",
            "Epoch 00005: saving model to CNN_STACKED-2.0228.hdf5\n",
            "Epoch 6/10\n",
            "1/1 [==============================] - 0s 33ms/step - loss: 2.0280\n",
            "learning rate: 0.01\n",
            "derivative of loss: 2.848133607055704\n",
            "\n",
            "Epoch 00006: saving model to CNN_STACKED-2.0280.hdf5\n",
            "Epoch 7/10\n",
            "1/1 [==============================] - 0s 40ms/step - loss: 2.1278\n",
            "learning rate: 0.01\n",
            "derivative of loss: 2.9174202808252883\n",
            "\n",
            "Epoch 00007: saving model to CNN_STACKED-2.1278.hdf5\n",
            "Epoch 8/10\n",
            "1/1 [==============================] - 0s 33ms/step - loss: 2.0435\n",
            "learning rate: 0.01\n",
            "derivative of loss: 2.859042289012838\n",
            "\n",
            "Epoch 00008: saving model to CNN_STACKED-2.0435.hdf5\n",
            "Epoch 9/10\n",
            "1/1 [==============================] - 0s 33ms/step - loss: 1.9609\n",
            "learning rate: 0.01\n",
            "derivative of loss: 2.800613036484504\n",
            "\n",
            "Epoch 00009: saving model to CNN_STACKED-1.9609.hdf5\n",
            "Epoch 10/10\n",
            "1/1 [==============================] - 0s 38ms/step - loss: 2.0632\n",
            "learning rate: 0.01\n",
            "derivative of loss: 2.872754754438741\n",
            "\n",
            "Epoch 00010: saving model to CNN_STACKED-2.0632.hdf5\n"
          ],
          "name": "stdout"
        },
        {
          "output_type": "execute_result",
          "data": {
            "text/plain": [
              "<keras.callbacks.History at 0x7ff1d8845940>"
            ]
          },
          "metadata": {
            "tags": []
          },
          "execution_count": 43
        }
      ]
    },
    {
      "metadata": {
        "id": "Ea_kklJEmdhZ",
        "colab_type": "code",
        "colab": {
          "base_uri": "https://localhost:8080/",
          "height": 233
        },
        "outputId": "ceeff6d3-19fe-44ba-a475-21ab124e558f"
      },
      "cell_type": "code",
      "source": [
        "!ls"
      ],
      "execution_count": 44,
      "outputs": [
        {
          "output_type": "stream",
          "text": [
            "CNN_STACKED-1.9609.hdf5  CNN_STACKED-2.1278.hdf5  CNN_STACKED-2.2958.hdf5\r\n",
            "CNN_STACKED-1.9676.hdf5  CNN_STACKED-2.1384.hdf5  CNN_STACKED-2.3046.hdf5\r\n",
            "CNN_STACKED-1.9882.hdf5  CNN_STACKED-2.1445.hdf5  CNN_STACKED-2.3086.hdf5\r\n",
            "CNN_STACKED-2.0228.hdf5  CNN_STACKED-2.1547.hdf5  CNN_STACKED-2.3554.hdf5\r\n",
            "CNN_STACKED-2.0280.hdf5  CNN_STACKED-2.1947.hdf5  CNN_STACKED-2.3712.hdf5\r\n",
            "CNN_STACKED-2.0435.hdf5  CNN_STACKED-2.2110.hdf5  CNN_STACKED-2.3749.hdf5\r\n",
            "CNN_STACKED-2.0445.hdf5  CNN_STACKED-2.2396.hdf5  CNN_STACKED-2.3836.hdf5\r\n",
            "CNN_STACKED-2.0632.hdf5  CNN_STACKED-2.2435.hdf5  CNN_STACKED-2.4385.hdf5\r\n",
            "CNN_STACKED-2.0675.hdf5  CNN_STACKED-2.2547.hdf5  CNN_STACKED-2.4585.hdf5\r\n",
            "CNN_STACKED-2.1121.hdf5  CNN_STACKED-2.2759.hdf5  CNN_STACKED-2.4736.hdf5\r\n",
            "CNN_STACKED-2.1140.hdf5  CNN_STACKED-2.2808.hdf5  datalab\r\n",
            "CNN_STACKED-2.1142.hdf5  CNN_STACKED-2.2902.hdf5  mnist-cnn-best.hdf5\r\n"
          ],
          "name": "stdout"
        }
      ]
    },
    {
      "metadata": {
        "id": "iAneRwDrhq6H",
        "colab_type": "code",
        "colab": {
          "base_uri": "https://localhost:8080/",
          "height": 653
        },
        "outputId": "305f7382-ad54-47ed-c301-0fb581266556"
      },
      "cell_type": "code",
      "source": [
        "\n",
        "filename = \"CNN_STACKED-1.9609.hdf5\"\n",
        "\n",
        "GAN.load_weights(filename)\n",
        "GAN.compile(loss='binary_crossentropy', optimizer='adam')\n",
        "\n",
        "bb=GAN.predict(x_test.reshape((1,28,28,1)))\n",
        "print(np.max(bb))\n",
        "c=np.where(bb[0]==np.max(bb))[0]\n",
        "print(\"max : \",c)\n",
        "print(Y_train[0])\n",
        "print(Y_train[0][c])\n",
        "Y_train[0][c]\n",
        "\n",
        "### YESSSS\n",
        "noise = np.random.uniform(0,1,size=[1,784]).reshape((1,28,28,1))\n",
        "generated_images = generator.predict(noise)\n",
        "plt.imshow(generated_images.reshape((28,28)),cmap='Greys')\n",
        "\n",
        "\n"
      ],
      "execution_count": 54,
      "outputs": [
        {
          "output_type": "stream",
          "text": [
            "0.60140187\n",
            "max :  [8]\n",
            "[1. 0. 0. 0. 0. 0. 0. 0. 0. 0.]\n",
            "[0.]\n",
            "_________________________________________________________________\n",
            "Layer (type)                 Output Shape              Param #   \n",
            "=================================================================\n",
            "input_5 (InputLayer)         (1, 28, 28, 1)            0         \n",
            "_________________________________________________________________\n",
            "sequential_5 (Sequential)    multiple                  8420      \n",
            "_________________________________________________________________\n",
            "sequential_7 (Sequential)    multiple                  305194    \n",
            "=================================================================\n",
            "Total params: 313,614\n",
            "Trainable params: 8,292\n",
            "Non-trainable params: 305,322\n",
            "_________________________________________________________________\n"
          ],
          "name": "stdout"
        },
        {
          "output_type": "display_data",
          "data": {
            "image/png": "[encoded data removed]",
            "text/plain": [
              "<matplotlib.figure.Figure at 0x7ff1d31eef60>"
            ]
          },
          "metadata": {
            "tags": []
          }
        }
      ]
    },
    {
      "metadata": {
        "id": "UuOOb590nZMY",
        "colab_type": "code",
        "colab": {
          "base_uri": "https://localhost:8080/",
          "height": 581
        },
        "outputId": "1d7c111e-c628-40bb-c4bf-d8f1d4c3d510"
      },
      "cell_type": "code",
      "source": [
        "plt.imshow(X_train.reshape((28,28)),cmap='Greys')\n",
        "\n",
        "GAN.get_config()\n",
        "\n",
        "GAN.summary()\n",
        "\n",
        "GAN.get_weights()\n",
        "\n",
        "from __future__ import print_function\n",
        "\n",
        "import h5py\n"
      ],
      "execution_count": 55,
      "outputs": [
        {
          "output_type": "stream",
          "text": [
            "_________________________________________________________________\n",
            "Layer (type)                 Output Shape              Param #   \n",
            "=================================================================\n",
            "input_5 (InputLayer)         (1, 28, 28, 1)            0         \n",
            "_________________________________________________________________\n",
            "sequential_5 (Sequential)    multiple                  8420      \n",
            "_________________________________________________________________\n",
            "sequential_7 (Sequential)    multiple                  305194    \n",
            "=================================================================\n",
            "Total params: 313,614\n",
            "Trainable params: 8,292\n",
            "Non-trainable params: 305,322\n",
            "_________________________________________________________________\n"
          ],
          "name": "stdout"
        },
        {
          "output_type": "display_data",
          "data": {
            "image/png": "[encoded data removed]",
            "text/plain": [
              "<matplotlib.figure.Figure at 0x7ff1d347d828>"
            ]
          },
          "metadata": {
            "tags": []
          }
        }
      ]
    },
    {
      "metadata": {
        "id": "4MqMWHdliJfv",
        "colab_type": "code",
        "colab": {
          "base_uri": "https://localhost:8080/",
          "height": 847
        },
        "outputId": "0d067b59-7edc-4f61-a634-a4f4ef8cd442"
      },
      "cell_type": "code",
      "source": [
        "def print_structure(weight_file_path):\n",
        "    f = h5py.File(weight_file_path)\n",
        "    try:\n",
        "        if len(f.attrs.items()):\n",
        "            print(\"{} contains: \".format(weight_file_path))\n",
        "            print(\"Root attributes:\")\n",
        "        for key, value in f.attrs.items():\n",
        "            print(\"  {}: {}\".format(key, value))\n",
        "\n",
        "        if len(f.items())==0:\n",
        "            return \n",
        "\n",
        "        for layer, g in f.items():\n",
        "            print(\"  {}\".format(layer))\n",
        "            print(\"    Attributes:\")\n",
        "            for key, value in g.attrs.items():\n",
        "                print(\"      {}: {}\".format(key, value))\n",
        "\n",
        "            print(\"    Dataset:\")\n",
        "            for p_name in g.keys():\n",
        "                param = g[p_name]\n",
        "\n",
        "                \n",
        "                print(\"      {}: {}\".format(p_name, param))\n",
        "    finally:\n",
        "        f.close()\n",
        "        \n",
        "        \n",
        "print_structure('CNN_STACKED-2.2396.hdf5')"
      ],
      "execution_count": 56,
      "outputs": [
        {
          "output_type": "stream",
          "text": [
            "CNN_STACKED-2.2396.hdf5 contains: \n",
            "Root attributes:\n",
            "  keras_version: b'2.1.6'\n",
            "  backend: b'tensorflow'\n",
            "  model_config: b'{\"class_name\": \"Model\", \"config\": {\"name\": \"model_3\", \"layers\": [{\"name\": \"input_3\", \"class_name\": \"InputLayer\", \"config\": {\"batch_input_shape\": [1, 28, 28, 1], \"dtype\": \"float32\", \"sparse\": false, \"name\": \"input_3\"}, \"inbound_nodes\": []}, {\"name\": \"sequential_3\", \"class_name\": \"Sequential\", \"config\": [{\"class_name\": \"Conv2D\", \"config\": {\"name\": \"conv2d_3\", \"trainable\": true, \"batch_input_shape\": [null, 28, 28, 1], \"dtype\": \"float32\", \"filters\": 20, \"kernel_size\": [3, 3], \"strides\": [1, 1], \"padding\": \"valid\", \"data_format\": \"channels_last\", \"dilation_rate\": [1, 1], \"activation\": \"linear\", \"use_bias\": true, \"kernel_initializer\": {\"class_name\": \"VarianceScaling\", \"config\": {\"scale\": 1.0, \"mode\": \"fan_avg\", \"distribution\": \"uniform\", \"seed\": null}}, \"bias_initializer\": {\"class_name\": \"Zeros\", \"config\": {}}, \"kernel_regularizer\": null, \"bias_regularizer\": null, \"activity_regularizer\": null, \"kernel_constraint\": null, \"bias_constraint\": null}}, {\"class_name\": \"BatchNormalization\", \"config\": {\"name\": \"batch_normalization_1\", \"trainable\": true, \"axis\": -1, \"momentum\": 0.99, \"epsilon\": 0.001, \"center\": true, \"scale\": true, \"beta_initializer\": {\"class_name\": \"Zeros\", \"config\": {}}, \"gamma_initializer\": {\"class_name\": \"Ones\", \"config\": {}}, \"moving_mean_initializer\": {\"class_name\": \"Zeros\", \"config\": {}}, \"moving_variance_initializer\": {\"class_name\": \"Ones\", \"config\": {}}, \"beta_regularizer\": null, \"gamma_regularizer\": null, \"beta_constraint\": null, \"gamma_constraint\": null}}, {\"class_name\": \"Activation\", \"config\": {\"name\": \"activation_1\", \"trainable\": true, \"activation\": \"relu\"}}, {\"class_name\": \"UpSampling2D\", \"config\": {\"name\": \"up_sampling2d_1\", \"trainable\": true, \"size\": [2, 2], \"data_format\": \"channels_last\"}}, {\"class_name\": \"Conv2D\", \"config\": {\"name\": \"conv2d_4\", \"trainable\": true, \"filters\": 20, \"kernel_size\": [3, 3], \"strides\": [1, 1], \"padding\": \"valid\", \"data_format\": \"channels_last\", \"dilation_rate\": [1, 1], \"activation\": \"linear\", \"use_bias\": true, \"kernel_initializer\": {\"class_name\": \"VarianceScaling\", \"config\": {\"scale\": 1.0, \"mode\": \"fan_avg\", \"distribution\": \"uniform\", \"seed\": null}}, \"bias_initializer\": {\"class_name\": \"Zeros\", \"config\": {}}, \"kernel_regularizer\": null, \"bias_regularizer\": null, \"activity_regularizer\": null, \"kernel_constraint\": null, \"bias_constraint\": null}}, {\"class_name\": \"BatchNormalization\", \"config\": {\"name\": \"batch_normalization_2\", \"trainable\": true, \"axis\": -1, \"momentum\": 0.99, \"epsilon\": 0.001, \"center\": true, \"scale\": true, \"beta_initializer\": {\"class_name\": \"Zeros\", \"config\": {}}, \"gamma_initializer\": {\"class_name\": \"Ones\", \"config\": {}}, \"moving_mean_initializer\": {\"class_name\": \"Zeros\", \"config\": {}}, \"moving_variance_initializer\": {\"class_name\": \"Ones\", \"config\": {}}, \"beta_regularizer\": null, \"gamma_regularizer\": null, \"beta_constraint\": null, \"gamma_constraint\": null}}, {\"class_name\": \"Activation\", \"config\": {\"name\": \"activation_2\", \"trainable\": true, \"activation\": \"relu\"}}, {\"class_name\": \"Conv2D\", \"config\": {\"name\": \"conv2d_5\", \"trainable\": true, \"filters\": 20, \"kernel_size\": [3, 3], \"strides\": [1, 1], \"padding\": \"valid\", \"data_format\": \"channels_last\", \"dilation_rate\": [1, 1], \"activation\": \"linear\", \"use_bias\": true, \"kernel_initializer\": {\"class_name\": \"VarianceScaling\", \"config\": {\"scale\": 1.0, \"mode\": \"fan_avg\", \"distribution\": \"uniform\", \"seed\": null}}, \"bias_initializer\": {\"class_name\": \"Zeros\", \"config\": {}}, \"kernel_regularizer\": null, \"bias_regularizer\": null, \"activity_regularizer\": null, \"kernel_constraint\": null, \"bias_constraint\": null}}, {\"class_name\": \"BatchNormalization\", \"config\": {\"name\": \"batch_normalization_3\", \"trainable\": true, \"axis\": -1, \"momentum\": 0.99, \"epsilon\": 0.001, \"center\": true, \"scale\": true, \"beta_initializer\": {\"class_name\": \"Zeros\", \"config\": {}}, \"gamma_initializer\": {\"class_name\": \"Ones\", \"config\": {}}, \"moving_mean_initializer\": {\"class_name\": \"Zeros\", \"config\": {}}, \"moving_variance_initializer\": {\"class_name\": \"Ones\", \"config\": {}}, \"beta_regularizer\": null, \"gamma_regularizer\": null, \"beta_constraint\": null, \"gamma_constraint\": null}}, {\"class_name\": \"Activation\", \"config\": {\"name\": \"activation_3\", \"trainable\": true, \"activation\": \"relu\"}}, {\"class_name\": \"MaxPooling2D\", \"config\": {\"name\": \"max_pooling2d_1\", \"trainable\": true, \"pool_size\": [3, 3], \"padding\": \"valid\", \"strides\": [3, 3], \"data_format\": \"channels_last\"}}, {\"class_name\": \"Conv2D\", \"config\": {\"name\": \"conv2d_6\", \"trainable\": true, \"filters\": 4, \"kernel_size\": [3, 3], \"strides\": [1, 1], \"padding\": \"valid\", \"data_format\": \"channels_last\", \"dilation_rate\": [1, 1], \"activation\": \"linear\", \"use_bias\": true, \"kernel_initializer\": {\"class_name\": \"VarianceScaling\", \"config\": {\"scale\": 1.0, \"mode\": \"fan_avg\", \"distribution\": \"uniform\", \"seed\": null}}, \"bias_initializer\": {\"class_name\": \"Zeros\", \"config\": {}}, \"kernel_regularizer\": null, \"bias_regularizer\": null, \"activity_regularizer\": null, \"kernel_constraint\": null, \"bias_constraint\": null}}, {\"class_name\": \"BatchNormalization\", \"config\": {\"name\": \"batch_normalization_4\", \"trainable\": true, \"axis\": -1, \"momentum\": 0.99, \"epsilon\": 0.001, \"center\": true, \"scale\": true, \"beta_initializer\": {\"class_name\": \"Zeros\", \"config\": {}}, \"gamma_initializer\": {\"class_name\": \"Ones\", \"config\": {}}, \"moving_mean_initializer\": {\"class_name\": \"Zeros\", \"config\": {}}, \"moving_variance_initializer\": {\"class_name\": \"Ones\", \"config\": {}}, \"beta_regularizer\": null, \"gamma_regularizer\": null, \"beta_constraint\": null, \"gamma_constraint\": null}}, {\"class_name\": \"Activation\", \"config\": {\"name\": \"activation_4\", \"trainable\": true, \"activation\": \"relu\"}}, {\"class_name\": \"Reshape\", \"config\": {\"name\": \"reshape_1\", \"trainable\": true, \"target_shape\": [28, 28, 1]}}], \"inbound_nodes\": [[[\"input_3\", 0, 0, {}]]]}, {\"name\": \"sequential_4\", \"class_name\": \"Sequential\", \"config\": [{\"class_name\": \"Conv2D\", \"config\": {\"name\": \"conv2d_7\", \"trainable\": false, \"batch_input_shape\": [null, 28, 28, 1], \"dtype\": \"float32\", \"filters\": 32, \"kernel_size\": [3, 3], \"strides\": [1, 1], \"padding\": \"valid\", \"data_format\": \"channels_last\", \"dilation_rate\": [1, 1], \"activation\": \"linear\", \"use_bias\": true, \"kernel_initializer\": {\"class_name\": \"VarianceScaling\", \"config\": {\"scale\": 1.0, \"mode\": \"fan_avg\", \"distribution\": \"uniform\", \"seed\": null}}, \"bias_initializer\": {\"class_name\": \"Zeros\", \"config\": {}}, \"kernel_regularizer\": null, \"bias_regularizer\": null, \"activity_regularizer\": null, \"kernel_constraint\": null, \"bias_constraint\": null}}, {\"class_name\": \"Activation\", \"config\": {\"name\": \"activation_5\", \"trainable\": false, \"activation\": \"relu\"}}, {\"class_name\": \"Conv2D\", \"config\": {\"name\": \"conv2d_8\", \"trainable\": false, \"filters\": 32, \"kernel_size\": [3, 3], \"strides\": [1, 1], \"padding\": \"valid\", \"data_format\": \"channels_last\", \"dilation_rate\": [1, 1], \"activation\": \"linear\", \"use_bias\": true, \"kernel_initializer\": {\"class_name\": \"VarianceScaling\", \"config\": {\"scale\": 1.0, \"mode\": \"fan_avg\", \"distribution\": \"uniform\", \"seed\": null}}, \"bias_initializer\": {\"class_name\": \"Zeros\", \"config\": {}}, \"kernel_regularizer\": null, \"bias_regularizer\": null, \"activity_regularizer\": null, \"kernel_constraint\": null, \"bias_constraint\": null}}, {\"class_name\": \"Activation\", \"config\": {\"name\": \"activation_6\", \"trainable\": false, \"activation\": \"relu\"}}, {\"class_name\": \"MaxPooling2D\", \"config\": {\"name\": \"max_pooling2d_2\", \"trainable\": false, \"pool_size\": [2, 2], \"padding\": \"valid\", \"strides\": [2, 2], \"data_format\": \"channels_last\"}}, {\"class_name\": \"Dropout\", \"config\": {\"name\": \"dropout_1\", \"trainable\": false, \"rate\": 0.25, \"noise_shape\": null, \"seed\": null}}, {\"class_name\": \"Flatten\", \"config\": {\"name\": \"flatten_1\", \"trainable\": false, \"data_format\": \"channels_last\"}}, {\"class_name\": \"Dense\", \"config\": {\"name\": \"dense_1\", \"trainable\": false, \"units\": 64, \"activation\": \"linear\", \"use_bias\": true, \"kernel_initializer\": {\"class_name\": \"VarianceScaling\", \"config\": {\"scale\": 1.0, \"mode\": \"fan_avg\", \"distribution\": \"uniform\", \"seed\": null}}, \"bias_initializer\": {\"class_name\": \"Zeros\", \"config\": {}}, \"kernel_regularizer\": null, \"bias_regularizer\": null, \"activity_regularizer\": null, \"kernel_constraint\": null, \"bias_constraint\": null}}, {\"class_name\": \"Activation\", \"config\": {\"name\": \"activation_7\", \"trainable\": false, \"activation\": \"relu\"}}, {\"class_name\": \"Dropout\", \"config\": {\"name\": \"dropout_2\", \"trainable\": false, \"rate\": 0.5, \"noise_shape\": null, \"seed\": null}}, {\"class_name\": \"Dense\", \"config\": {\"name\": \"dense_2\", \"trainable\": false, \"units\": 10, \"activation\": \"linear\", \"use_bias\": true, \"kernel_initializer\": {\"class_name\": \"VarianceScaling\", \"config\": {\"scale\": 1.0, \"mode\": \"fan_avg\", \"distribution\": \"uniform\", \"seed\": null}}, \"bias_initializer\": {\"class_name\": \"Zeros\", \"config\": {}}, \"kernel_regularizer\": null, \"bias_regularizer\": null, \"activity_regularizer\": null, \"kernel_constraint\": null, \"bias_constraint\": null}}, {\"class_name\": \"Activation\", \"config\": {\"name\": \"activation_8\", \"trainable\": false, \"activation\": \"sigmoid\"}}], \"inbound_nodes\": [[[\"sequential_3\", 1, 0, {}]]]}], \"input_layers\": [[\"input_3\", 0, 0]], \"output_layers\": [[\"sequential_4\", 1, 0]]}}'\n",
            "  training_config: b'{\"optimizer_config\": {\"class_name\": \"Adam\", \"config\": {\"lr\": 0.009999999776482582, \"beta_1\": 0.8999999761581421, \"beta_2\": 0.9990000128746033, \"decay\": 0.0, \"epsilon\": 1e-07, \"amsgrad\": false}}, \"loss\": \"categorical_crossentropy\", \"metrics\": [], \"sample_weight_mode\": null, \"loss_weights\": null}'\n",
            "  model_weights\n",
            "    Attributes:\n",
            "      layer_names: [b'input_3' b'sequential_3' b'sequential_4']\n",
            "      backend: b'tensorflow'\n",
            "      keras_version: b'2.1.6'\n",
            "    Dataset:\n",
            "      input_3: <HDF5 group \"/model_weights/input_3\" (0 members)>\n",
            "      sequential_3: <HDF5 group \"/model_weights/sequential_3\" (8 members)>\n",
            "      sequential_4: <HDF5 group \"/model_weights/sequential_4\" (4 members)>\n",
            "  optimizer_weights\n",
            "    Attributes:\n",
            "      weight_names: [b'Adam_3/iterations:0' b'training_3/Adam/Variable:0'\n",
            " b'training_3/Adam/Variable_1:0' b'training_3/Adam/Variable_2:0'\n",
            " b'training_3/Adam/Variable_3:0' b'training_3/Adam/Variable_4:0'\n",
            " b'training_3/Adam/Variable_5:0' b'training_3/Adam/Variable_6:0'\n",
            " b'training_3/Adam/Variable_7:0' b'training_3/Adam/Variable_8:0'\n",
            " b'training_3/Adam/Variable_9:0' b'training_3/Adam/Variable_10:0'\n",
            " b'training_3/Adam/Variable_11:0' b'training_3/Adam/Variable_12:0'\n",
            " b'training_3/Adam/Variable_13:0' b'training_3/Adam/Variable_14:0'\n",
            " b'training_3/Adam/Variable_15:0' b'training_3/Adam/Variable_16:0'\n",
            " b'training_3/Adam/Variable_17:0' b'training_3/Adam/Variable_18:0'\n",
            " b'training_3/Adam/Variable_19:0' b'training_3/Adam/Variable_20:0'\n",
            " b'training_3/Adam/Variable_21:0' b'training_3/Adam/Variable_22:0'\n",
            " b'training_3/Adam/Variable_23:0' b'training_3/Adam/Variable_24:0'\n",
            " b'training_3/Adam/Variable_25:0' b'training_3/Adam/Variable_26:0'\n",
            " b'training_3/Adam/Variable_27:0' b'training_3/Adam/Variable_28:0'\n",
            " b'training_3/Adam/Variable_29:0' b'training_3/Adam/Variable_30:0'\n",
            " b'training_3/Adam/Variable_31:0' b'training_3/Adam/Variable_32:0'\n",
            " b'training_3/Adam/Variable_33:0' b'training_3/Adam/Variable_34:0'\n",
            " b'training_3/Adam/Variable_35:0' b'training_3/Adam/Variable_36:0'\n",
            " b'training_3/Adam/Variable_37:0' b'training_3/Adam/Variable_38:0'\n",
            " b'training_3/Adam/Variable_39:0' b'training_3/Adam/Variable_40:0'\n",
            " b'training_3/Adam/Variable_41:0' b'training_3/Adam/Variable_42:0'\n",
            " b'training_3/Adam/Variable_43:0' b'training_3/Adam/Variable_44:0'\n",
            " b'training_3/Adam/Variable_45:0' b'training_3/Adam/Variable_46:0'\n",
            " b'training_3/Adam/Variable_47:0']\n",
            "    Dataset:\n",
            "      Adam_3: <HDF5 group \"/optimizer_weights/Adam_3\" (1 members)>\n",
            "      training_3: <HDF5 group \"/optimizer_weights/training_3\" (1 members)>\n"
          ],
          "name": "stdout"
        }
      ]
    },
    {
      "metadata": {
        "id": "5dloje2hie2Q",
        "colab_type": "code",
        "colab": {}
      },
      "cell_type": "code",
      "source": [
        ""
      ],
      "execution_count": 0,
      "outputs": []
    }
  ]
}